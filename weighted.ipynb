{
 "cells": [
  {
   "cell_type": "markdown",
   "id": "64e9fe58",
   "metadata": {},
   "source": [
    "### Data"
   ]
  },
  {
   "cell_type": "code",
   "execution_count": 38,
   "id": "b1253284",
   "metadata": {},
   "outputs": [],
   "source": [
    "import pandas as pd\n",
    "\n",
    "adShoot = pd.read_csv(\"AdShooting.csv\")\n",
    "advanced = pd.read_csv(\"advanced.csv\")\n",
    "per100 = pd.read_csv(\"Per100.csv\")\n",
    "perGame = pd.read_csv(\"PerGame.csv\")\n",
    "PlaybyPlay = pd.read_csv(\"PlaybyPlay.csv\")\n",
    "shotType = pd.read_csv(\"ShotType.csv\")\n",
    "hustle = pd.read_csv(\"Hustle.csv\", encoding='ISO-8859-1')\n",
    "\n",
    "\n",
    "perGame['MP'] = perGame['MP'] * perGame['G']\n",
    "\n",
    "perGame = perGame.drop(columns=['Rk'], errors='ignore') \n",
    "perGame = perGame.merge(per100[['Player', 'Rk']], on='Player', how='left')\n",
    "perGame = perGame.sort_values(by='Rk', ascending=True)\n",
    "\n",
    "player_ids = per100['Player']\n",
    "player_idsH = hustle['Player']"
   ]
  },
  {
   "cell_type": "markdown",
   "id": "e7e3b2f2",
   "metadata": {},
   "source": [
    "#### Dropping Columns"
   ]
  },
  {
   "cell_type": "code",
   "execution_count": 39,
   "id": "c1f6e655",
   "metadata": {},
   "outputs": [],
   "source": [
    "adShoot = adShoot.drop(columns=[\"Awards\" ,\"-9999\", \"Rk\"], axis=1)\n",
    "advanced = advanced.drop(columns=[\"Awards\" ,\"Player-additional\", \"Rk\"], axis=1)\n",
    "per100 = per100.drop(columns=[\"Awards\" ,\"Player-additional\", \"Rk\"], axis=1)\n",
    "perGame = perGame.drop(columns=[\"Awards\" ,\"Player-additional\", \"Rk\"], axis=1)\n",
    "PlaybyPlay = PlaybyPlay.drop(columns=[\"Awards\" ,\"-9999\", \"Rk\"], axis=1)\n",
    "shotType = shotType.drop(columns=[\"Awards\" ,\"-9999\", \"Rk\"], axis=1)"
   ]
  },
  {
   "cell_type": "markdown",
   "id": "b320c45c",
   "metadata": {},
   "source": [
    "#### Data Cleaning"
   ]
  },
  {
   "cell_type": "code",
   "execution_count": 40,
   "id": "4ebf4e7e",
   "metadata": {},
   "outputs": [
    {
     "name": "stdout",
     "output_type": "stream",
     "text": [
      "Players only in df1: {'Kevin Knox', 'Tidjane Salaün', 'Nikola Jokić', 'Jimmy Butler', 'Armel Traoré', 'A.J. Green', 'GG Jackson II', 'Terry Taylor', 'Trey Jemison', 'Bogdan Bogdanović', 'Alondes Williams', 'Alperen Şengün', 'Lester Quiñones', 'Tristan Da Silva', 'Jonas Valančiūnas', 'Nikola Jović', 'Skal Labissière', 'Kristaps Porziņģis', 'Brandon Boston Jr.', 'Dario Šarić', 'Xavier Tillman Sr.', 'Vasilije Micić', 'Jeff Dowtin', 'Luka Dončić', 'Moussa Diabaté', 'Dennis Schröder', 'Jusuf Nurkić', 'Jeenathan Williams', 'Vlatko Čančar', 'Robert Williams', 'Karlo Matković', 'Nikola Vučević', 'Ron Holland'}\n",
      "Players only in df2: {'Nikola Vu?evi?', 'Vasilije MiciÄ\\x87', 'Luka DonÄ\\x8diÄ\\x87', 'Alperen Sengun', 'Karlo MatkoviÄ\\x87', 'Jeff Dowtin Jr.', 'Lester Quinones', 'Bogdan BogdanoviÄ\\x87', 'Tristan da Silva', 'Jimmy Butler III', 'Armel Traorï¿½', 'Moussa Diabatï¿½', 'AJ Green', 'Trey Jemison III', 'Vlatko Ä\\x8canÄ\\x8dar', 'Jonas ValanÄ\\x8diÅ«nas', 'Ronald Holland II', 'Nikola Jovi?', 'Kristaps PorziÅ\\x86Ä£is', 'Dario Å\\xa0ariÄ\\x87', 'Brandon Boston', 'Nate Williams', 'Dennis Schrï¿½der', 'Nikola JokiÄ\\x87', 'Jusuf NurkiÄ\\x87', 'Robert Williams III', 'Tidjane Salaï¿½n', 'Skal Labissiere', 'GG Jackson', 'Kevin Knox II', 'Xavier Tillman'}\n"
     ]
    }
   ],
   "source": [
    "players_1 = set(adShoot['Player'].str.strip())\n",
    "players_2 = set(hustle['Player'].str.strip())\n",
    "\n",
    "\n",
    "only_in_df1 = players_1 - players_2\n",
    "only_in_df2 = players_2 - players_1\n",
    "\n",
    "print(\"Players only in df1:\", only_in_df1)\n",
    "print(\"Players only in df2:\", only_in_df2)"
   ]
  },
  {
   "cell_type": "code",
   "execution_count": 41,
   "id": "4fee8829",
   "metadata": {},
   "outputs": [],
   "source": [
    "# Correcting Player Names so they are consistent throughout \n",
    "corrections = {\n",
    "    \"Jeff Dowtin Jr.\": \"Jeff Dowtin\",\n",
    "    \"Nikola JokiÄ\\x87\": \"Nikola Jokić\", \n",
    "    \"Jonas ValanÄ\\x8diÅ«nas\": \"Jonas Valančiūnas\", \n",
    "    \"Xavier Tillman\": \"Xavier Tillman Sr.\", \n",
    "    \"Alperen Sengun\": \"Alperen Şengün\", \n",
    "    \"Nikola Jovi?\": \"Nikola Jović\", \\\n",
    "    \"Tristan da Silva\": \"Tristan Da Silva\", \n",
    "    \"Ronald Holland II\": \"Ron Holland\", \n",
    "    \"Jimmy Butler III\": \"Jimmy Butler\", \n",
    "    \"Luka DonÄ\\x8diÄ\\x87\": \"Luka Dončić\", \n",
    "    \"Nikola Vu?evi?\": \"Nikola Vučević\", \n",
    "    \"Bogdan BogdanoviÄ\\x87\": \"Bogdan Bogdanović\", \n",
    "    \"Kevin Knox II\": \"Kevin Knox\", \n",
    "    \"GG Jackson\": \"GG Jackson II\", \n",
    "    \"Robert Williams III\": \"Robert Williams\", \n",
    "    \"Trey Jemison III\": \"Trey Jemison\", \n",
    "    \"Kristaps PorziÅ\\x86Ä£is\": \"Kristaps Porziņģis\", \n",
    "    \"Lester Quinones\": \"Lester Quiñones\", \n",
    "    \"Vasilije MiciÄ\\x87\": \"Vasilije Micić\",  \n",
    "    \"Karlo MatkoviÄ\\x87\": \"Karlo Matković\",\n",
    "    \"Jusuf NurkiÄ\\x87\": \"Jusuf Nurkić\", \n",
    "    \"Dario Å\\xa0ariÄ\\x87\": \"Dario Šarić\", \n",
    "    \"AJ Green\": \"A.J. Green\", \n",
    "    \"Brandon Boston\": \"Brandon Boston Jr.\", \n",
    "    \"Skal Labissiere\": \"Skal Labissière\", \n",
    "    \"Vlatko Ä\\x8canÄ\\x8dar\": \"Vlatko Čančar\"\n",
    "}\n",
    "\n",
    "hustle['Player'] = hustle['Player'].replace(corrections)\n",
    "\n",
    "# Filter out unqualified players\n",
    "hustle = hustle.loc[hustle['MP'] > 200]\n",
    "hustle = hustle.fillna(0)\n",
    "\n",
    "#print(hustle)\n"
   ]
  },
  {
   "cell_type": "code",
   "execution_count": 42,
   "id": "4a1f892c",
   "metadata": {},
   "outputs": [],
   "source": [
    "# Filter out players and fixing NA values\n",
    "dataframes = ['adShoot', 'advanced', 'per100', 'perGame', 'PlaybyPlay', 'shotType']\n",
    "\n",
    "for name in dataframes:\n",
    "    df = globals()[name]\n",
    "    globals()[name] = df.loc[df['MP'] > 200]\n",
    "\n",
    "for name in dataframes:\n",
    "    df = globals()[name]\n",
    "    globals()[name] = df.fillna(0)"
   ]
  },
  {
   "cell_type": "markdown",
   "id": "16c44c05",
   "metadata": {},
   "source": [
    "#### Standardizing Data"
   ]
  },
  {
   "cell_type": "code",
   "execution_count": 43,
   "id": "57701a69",
   "metadata": {},
   "outputs": [],
   "source": [
    "# Standardizing numeric values\n",
    "from sklearn.preprocessing import StandardScaler\n",
    "\n",
    "ss = StandardScaler()\n",
    "\n",
    "for name in dataframes:\n",
    "    df = globals()[name]\n",
    "    globals()['stand_' + name] = df.select_dtypes(include='number')\n",
    "\n",
    "stand_hustle = hustle.select_dtypes(include='number')\n",
    "    \n",
    "dataframesStand = ['stand_adShoot', 'stand_advanced', 'stand_per100',\n",
    "               'stand_perGame', 'stand_PlaybyPlay', 'stand_shotType']\n",
    "\n",
    "for name in dataframesStand:\n",
    "    df = globals()[name]\n",
    "    globals()[name] = df.drop(columns=[\"Age\",\"G\",\"GS\",\"MP\"])\n",
    "\n",
    "stand_hustle = stand_hustle.drop(columns=[\"Age\",\"GP\",\"MP\",\"Min\"])\n",
    "\n",
    "for name in dataframesStand:\n",
    "    df = globals()[name]\n",
    "    globals()[name] = ss.fit_transform(df)\n",
    "\n",
    "stand_hustle = ss.fit_transform(stand_hustle)"
   ]
  },
  {
   "cell_type": "code",
   "execution_count": 44,
   "id": "3bca65e2",
   "metadata": {},
   "outputs": [],
   "source": [
    "# Turning Standardized NumpyArray Data back to dataframe with original column names \n",
    "# Retrieving column names\n",
    "adShoot_drop = adShoot.drop(columns=[\"Age\", \"G\", \"GS\", \"MP\", \"Player\", \"Team\", \"Pos\"])\n",
    "PlaybyPlay_drop = PlaybyPlay.drop(columns=[\"Age\", \"G\", \"GS\", \"MP\", \"Player\", \"Team\", \"Pos\"])\n",
    "advanced_drop = advanced.drop(columns=[\"Age\", \"G\", \"GS\", \"MP\", \"Player\", \"Team\", \"Pos\"])\n",
    "per100_drop = per100.drop(columns=[\"Age\", \"G\", \"GS\", \"MP\", \"Player\", \"Team\", \"Pos\"])\n",
    "shotType_drop = shotType.drop(columns=[\"Age\", \"G\", \"GS\", \"MP\", \"Player\", \"Team\", \"Pos\"])\n",
    "perGame_drop = perGame.drop(columns=[\"Age\", \"G\", \"GS\", \"MP\", \"Player\", \"Team\", \"Pos\"])\n",
    "hustle_drop = hustle.drop(columns=[\"Age\",\"GP\",\"MP\",\"Min\",\"Player\",\"Team\"])\n",
    "\n",
    "# Make sure the shapes match\n",
    "assert stand_adShoot.shape[1] == len(adShoot_drop.columns)\n",
    "assert stand_PlaybyPlay.shape[1] == len(PlaybyPlay_drop.columns)\n",
    "assert stand_advanced.shape[1] == len(advanced_drop.columns)\n",
    "assert stand_per100.shape[1] == len(per100_drop.columns)\n",
    "assert stand_shotType.shape[1] == len(shotType_drop.columns)\n",
    "assert stand_perGame.shape[1] == len(perGame_drop.columns)\n",
    "assert stand_hustle.shape[1] == len(hustle_drop.columns)\n",
    "\n",
    "# Adding the column names\n",
    "df_adShoot = pd.DataFrame(stand_adShoot, columns=adShoot_drop.columns)\n",
    "df_PlaybyPlay = pd.DataFrame(stand_PlaybyPlay, columns=PlaybyPlay_drop.columns)\n",
    "df_advanced = pd.DataFrame(stand_advanced, columns=advanced_drop.columns)\n",
    "df_per100 = pd.DataFrame(stand_per100, columns=per100_drop.columns)\n",
    "df_shotType = pd.DataFrame(stand_shotType, columns=shotType_drop.columns)\n",
    "df_perGame = pd.DataFrame(stand_perGame, columns=perGame_drop.columns)\n",
    "df_hustle = pd.DataFrame(stand_hustle, columns=hustle_drop.columns)"
   ]
  },
  {
   "cell_type": "code",
   "execution_count": 45,
   "id": "98388f2f",
   "metadata": {},
   "outputs": [],
   "source": [
    "dfNames = ['df_adShoot', 'df_PlaybyPlay', 'df_advanced', \n",
    "           'df_per100', 'df_shotType', 'df_perGame']\n",
    "\n",
    "for name in dfNames:\n",
    "    df = globals()[name]\n",
    "    df.insert(0, 'Player', player_ids)\n",
    "\n",
    "df_hustle.insert(0, 'Player', player_idsH)"
   ]
  },
  {
   "cell_type": "markdown",
   "id": "7799f41c",
   "metadata": {},
   "source": [
    "#### Similarity Calculation"
   ]
  },
  {
   "cell_type": "code",
   "execution_count": 96,
   "id": "11677673",
   "metadata": {},
   "outputs": [
    {
     "name": "stdout",
     "output_type": "stream",
     "text": [
      "\n",
      "Top 10 most similar players to Anthony Edwards\n",
      "               Player  Total_Score\n",
      "50   Donovan Mitchell     8.492488\n",
      "13       Jayson Tatum     8.126997\n",
      "7         Tyler Herro     8.108710\n",
      "72     Damian Lillard     8.063273\n",
      "47      Stephen Curry     7.601089\n",
      "29         Coby White     7.519779\n",
      "4        James Harden     7.491936\n",
      "122      Kyrie Irving     7.455849\n",
      "91      Norman Powell     7.345042\n",
      "21      Austin Reaves     7.294163\n"
     ]
    }
   ],
   "source": [
    "from sklearn.metrics.pairwise import cosine_similarity\n",
    "from functools import reduce\n",
    "\n",
    "dfNames = {'df_adShoot' : df_adShoot,\n",
    "           'df_PlaybyPlay': df_PlaybyPlay,\n",
    "           'df_hustle' : df_hustle,\n",
    "           'df_advanced' : df_advanced, \n",
    "           'df_per100' : df_per100,\n",
    "           'df_shotType' : df_shotType,\n",
    "           'df_perGame' : df_perGame}\n",
    "\n",
    "# Define weights for each dataset\n",
    "weights = {\n",
    "    'df_adShoot': 1.281,\n",
    "    'df_PlaybyPlay': 1.437,\n",
    "    'df_hustle': 1.280,\n",
    "    'df_advanced': 1.585,\n",
    "    'df_per100': 1.559,\n",
    "    'df_shotType': 1.324,\n",
    "    'df_perGame': 1.534,\n",
    "}\n",
    "\n",
    "# target_player = \"Jalen Brunson\"  # Example\n",
    "target_player = input(\"Player Name: \").strip()\n",
    "\n",
    "# Computing individual Scores\n",
    "def compute_similarity(df: pd.DataFrame, target_player: str, dataset_name: str) -> pd.DataFrame:\n",
    "    features = df.drop(columns='Player')\n",
    "    players = df['Player']\n",
    "    \n",
    "    if target_player not in players.values:\n",
    "        raise ValueError(f\"{target_player} not found in dataset: {dataset_name}\")\n",
    "    \n",
    "    target_index = players[players == target_player].index[0]\n",
    "    target_vector = features.iloc[target_index].values.reshape(1, -1)\n",
    "    \n",
    "    similarities = cosine_similarity(target_vector, features.values)[0]\n",
    "    return pd.DataFrame({'Player': players, f'Sim_{dataset_name}': similarities})\n",
    "\n",
    "# Calculating Initial Score similarity\n",
    "similarity_dfs = []\n",
    "\n",
    "for name, df in dfNames.items():\n",
    "    sim_df = compute_similarity(df, target_player, name)\n",
    "    similarity_dfs.append(sim_df)\n",
    "\n",
    "final_df = reduce(lambda left, right: pd.merge(left, right, on='Player'), similarity_dfs)\n",
    "similarity_cols = [col for col in final_df.columns if col.startswith('Sim_')]\n",
    "\n",
    "# Apply weights to calculate weighted total score\n",
    "final_df['Total_Score'] = 0\n",
    "for col in similarity_cols:\n",
    "    # Extract dataset name from column (e.g., 'Sim_df_adShoot' -> 'df_adShoot')\n",
    "    dataset_name = col.replace('Sim_', '')\n",
    "    weight = weights.get(dataset_name, 1.0)  # Default weight of 1.0 if not found\n",
    "    final_df['Total_Score'] += final_df[col] * weight\n",
    "\n",
    "top_similar_players = (\n",
    "    final_df[final_df['Player'] != target_player]\n",
    "    .sort_values('Total_Score', ascending=False)\n",
    "    .head(10)\n",
    ")\n",
    "\n",
    "print(\"\\nTop 10 most similar players to\", target_player)\n",
    "print(top_similar_players[['Player', 'Total_Score']])"
   ]
  }
 ],
 "metadata": {
  "kernelspec": {
   "display_name": "Python 3",
   "language": "python",
   "name": "python3"
  },
  "language_info": {
   "codemirror_mode": {
    "name": "ipython",
    "version": 3
   },
   "file_extension": ".py",
   "mimetype": "text/x-python",
   "name": "python",
   "nbconvert_exporter": "python",
   "pygments_lexer": "ipython3",
   "version": "3.12.1"
  }
 },
 "nbformat": 4,
 "nbformat_minor": 5
}
